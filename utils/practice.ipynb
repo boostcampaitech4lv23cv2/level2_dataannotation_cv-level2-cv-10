{
 "cells": [
  {
   "cell_type": "code",
   "execution_count": 42,
   "metadata": {},
   "outputs": [
    {
     "name": "stdout",
     "output_type": "stream",
     "text": [
      "0\n",
      "[]\n"
     ]
    }
   ],
   "source": [
    "import os\n",
    "from glob import glob\n",
    "\n",
    "base_path = 'input/data/ICDAR19/gt_txt' # base path to start\n",
    "recursive_path = os.path.join(base_path, 'tr_img_**')\n",
    "\n",
    "a = [i for i in range(1001, 2001)]\n",
    "b = [i for i in range(5001, 6001)]\n",
    "a.extend(b)\n",
    "\n",
    "l = {i:False for i in a}\n",
    "for path in glob(recursive_path, recursive=True):\n",
    "    num = int(path[-9:-4])\n",
    "    l[num] = True\n",
    "\n",
    "y = []\n",
    "for x in l:\n",
    "    if not l[x]:\n",
    "        y.append(x)\n",
    "\n",
    "print(len(y))\n",
    "print(y)"
   ]
  },
  {
   "cell_type": "code",
   "execution_count": 83,
   "metadata": {},
   "outputs": [
    {
     "name": "stdout",
     "output_type": "stream",
     "text": [
      "2000\n"
     ]
    }
   ],
   "source": [
    "import os\n",
    "from glob import glob\n",
    "\n",
    "base_path = '/opt/ml/input/data/ICDAR19_Korean/images' # base path to start\n",
    "recursive_path = os.path.join(base_path, '**')\n",
    "\n",
    "num = 0\n",
    "for path in glob(recursive_path):\n",
    "    num += 1\n",
    "\n",
    "print(num)"
   ]
  },
  {
   "cell_type": "code",
   "execution_count": 85,
   "metadata": {},
   "outputs": [
    {
     "data": {
      "text/plain": [
       "1000"
      ]
     },
     "execution_count": 85,
     "metadata": {},
     "output_type": "execute_result"
    }
   ],
   "source": [
    "\n",
    "base_path = '/opt/ml/input/data/ICDAR15_Korean/ufo/train.json' # base path to start\n",
    "import json\n",
    "\n",
    "with open(base_path) as f:\n",
    "    json_object = json.load(f)\n",
    "len(json_object['images'])"
   ]
  },
  {
   "cell_type": "code",
   "execution_count": 82,
   "metadata": {},
   "outputs": [
    {
     "data": {
      "text/plain": [
       "{'Mixed'}"
      ]
     },
     "execution_count": 82,
     "metadata": {},
     "output_type": "execute_result"
    }
   ],
   "source": [
    "{'en', 'Mixed'}.difference({'ko', 'en'})"
   ]
  },
  {
   "cell_type": "code",
   "execution_count": null,
   "metadata": {},
   "outputs": [],
   "source": [
    "import os.path as osp\n",
    "IMAGE_EXTENSIONS = {'.gif', '.png', '.jpg'}\n",
    "image_dir = '/opt/ml/input/data/ICDAR15/images'\n",
    "\n",
    "image_paths = {x for x in glob(osp.join(image_dir, '*')) if osp.splitext(x)[1] in IMAGE_EXTENSIONS}\n",
    "image_paths"
   ]
  },
  {
   "cell_type": "code",
   "execution_count": null,
   "metadata": {},
   "outputs": [],
   "source": []
  }
 ],
 "metadata": {
  "kernelspec": {
   "display_name": "Python 3.8.5 ('base')",
   "language": "python",
   "name": "python3"
  },
  "language_info": {
   "codemirror_mode": {
    "name": "ipython",
    "version": 3
   },
   "file_extension": ".py",
   "mimetype": "text/x-python",
   "name": "python",
   "nbconvert_exporter": "python",
   "pygments_lexer": "ipython3",
   "version": "3.8.5"
  },
  "orig_nbformat": 4,
  "vscode": {
   "interpreter": {
    "hash": "d4d1e4263499bec80672ea0156c357c1ee493ec2b1c70f0acce89fc37c4a6abe"
   }
  }
 },
 "nbformat": 4,
 "nbformat_minor": 2
}
