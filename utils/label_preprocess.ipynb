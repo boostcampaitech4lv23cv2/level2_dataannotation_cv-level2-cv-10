{
 "cells": [
  {
   "cell_type": "code",
   "execution_count": 25,
   "metadata": {},
   "outputs": [],
   "source": [
    "import os \n",
    "import json\n",
    "from pprint import pprint\n",
    "import numpy as np"
   ]
  },
  {
   "cell_type": "code",
   "execution_count": 54,
   "metadata": {},
   "outputs": [
    {
     "data": {
      "text/plain": [
       "['label_training/2.book/01.총류/',\n",
       " 'label_training/2.book/02.철학/',\n",
       " 'label_training/2.book/03.종교/',\n",
       " 'label_training/2.book/04.사회과학/']"
      ]
     },
     "execution_count": 54,
     "metadata": {},
     "output_type": "execute_result"
    }
   ],
   "source": [
    "# TODO : label_paths to your own paths \n",
    "label_paths = ['label_training/2.book/01.총류/', 'label_training/2.book/02.철학/', 'label_training/2.book/03.종교/', 'label_training/2.book/04.사회과학/']\n",
    "label_paths"
   ]
  },
  {
   "cell_type": "code",
   "execution_count": 58,
   "metadata": {},
   "outputs": [],
   "source": [
    "imgs_info = dict()\n",
    "for src_label_path in label_paths:\n",
    "    # list all files that end with .json in src_label_path\n",
    "    src_list = sorted([os.path.join(src_label_path, f) for f in os.listdir(src_label_path) if f.endswith('.json')])\n",
    "    # store all image info in imgs_info\n",
    "    \n",
    "    for idx, src in enumerate(src_list):\n",
    "        # load json file\n",
    "        with open(src, 'r', encoding='utf-8-sig') as f:\n",
    "            data = json.load(f)\n",
    "        \n",
    "        # get image info (height, width, tags, license_tag)\n",
    "        image_info = dict()\n",
    "        image_info['img_h'] = data['images'][0]['height']\n",
    "        image_info['img_w'] = data['images'][0]['width']\n",
    "        image_info['tags'] = None\n",
    "        image_info['license_tag'] = dict(usability=True, public=True, commercial=True, type='CC-BY-SA',\n",
    "                                holder=None)\n",
    "        \n",
    "        # get word info (points, transcription, language, illegibility, orientation, word_tags)\n",
    "        words_info = dict()\n",
    "        for i, word in enumerate(data['annotations']):\n",
    "            # (x, y, w, h) -> (x1, y1, x2, y2, x3, y3, x4, y4)\n",
    "            bbox_x = word['bbox'][0]\n",
    "            bbox_y = word['bbox'][1]\n",
    "            bbox_w = word['bbox'][2]\n",
    "            bbox_h = word['bbox'][3]\n",
    "            items = [bbox_x, bbox_y, bbox_x + bbox_w, bbox_y, bbox_x + bbox_w, bbox_y + bbox_h, bbox_x, bbox_y + bbox_h]\n",
    "            points = np.array(items[:], dtype=np.float32).reshape(4, 2).tolist()\n",
    "            \n",
    "            # get transcription\n",
    "            transcription = word['text']\n",
    "            # get language (default: 'ko')\n",
    "            language = 'ko'\n",
    "            # get illegibility (if transcription == 'xxx', illegibility = True)\n",
    "            illegibility = transcription == 'xxx'\n",
    "            # get orientation by wordorientation\n",
    "            orientation = \"Horizontal\" if data['metadata'][0]['wordorientation'] == \"가로\" else \"Vertical\"\n",
    "            \n",
    "            words_info[i] = dict(\n",
    "                points=points, transcription=transcription, language=[language],\n",
    "                illegibility=illegibility, orientation=orientation, word_tags=None\n",
    "            )\n",
    "        image_info['words'] = words_info\n",
    "        \n",
    "        img_path = data['images'][0]['file_name']\n",
    "        imgs_info[img_path] = image_info"
   ]
  },
  {
   "cell_type": "code",
   "execution_count": 59,
   "metadata": {},
   "outputs": [],
   "source": [
    "# TODO : need to change path to your own path (first path)\n",
    "with open(os.path.join('label_training/2.book', 'train.json'), 'w', encoding = 'utf-8-sig') as f:\n",
    "    anno = dict(images = imgs_info)\n",
    "    json.dump(anno, f, indent=4)"
   ]
  },
  {
   "cell_type": "code",
   "execution_count": null,
   "metadata": {},
   "outputs": [],
   "source": []
  }
 ],
 "metadata": {
  "kernelspec": {
   "display_name": "Python 3",
   "language": "python",
   "name": "python3"
  },
  "language_info": {
   "codemirror_mode": {
    "name": "ipython",
    "version": 3
   },
   "file_extension": ".py",
   "mimetype": "text/x-python",
   "name": "python",
   "nbconvert_exporter": "python",
   "pygments_lexer": "ipython3",
   "version": "3.8.13"
  },
  "orig_nbformat": 4,
  "vscode": {
   "interpreter": {
    "hash": "3d597f4c481aa0f25dceb95d2a0067e73c0966dcbd003d741d821a7208527ecf"
   }
  }
 },
 "nbformat": 4,
 "nbformat_minor": 2
}
