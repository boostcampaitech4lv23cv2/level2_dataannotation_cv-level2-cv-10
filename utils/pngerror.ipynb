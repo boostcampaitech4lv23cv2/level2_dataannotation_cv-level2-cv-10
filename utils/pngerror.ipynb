{
 "cells": [
  {
   "cell_type": "code",
   "execution_count": null,
   "metadata": {},
   "outputs": [],
   "source": [
    "from PIL import Image\n",
    "import os\n",
    "\n",
    "for image in os.listdir('/opt/ml/input/data/ICDAR19/images'):\n",
    "  image = os.path.join('/opt/ml/input/data/ICDAR19/images', image)\n",
    "  im = Image.open(image)\n",
    "  # If is png image\n",
    "  if im.format == 'PNG':\n",
    "    # and is not RGBA\n",
    "    if im.mode != 'RGBA':\n",
    "      im.convert(\"RGBA\").save(image)"
   ]
  }
 ],
 "metadata": {
  "kernelspec": {
   "display_name": "Python 3.8.5 ('base')",
   "language": "python",
   "name": "python3"
  },
  "language_info": {
   "name": "python",
   "version": "3.8.5"
  },
  "orig_nbformat": 4,
  "vscode": {
   "interpreter": {
    "hash": "d4d1e4263499bec80672ea0156c357c1ee493ec2b1c70f0acce89fc37c4a6abe"
   }
  }
 },
 "nbformat": 4,
 "nbformat_minor": 2
}
