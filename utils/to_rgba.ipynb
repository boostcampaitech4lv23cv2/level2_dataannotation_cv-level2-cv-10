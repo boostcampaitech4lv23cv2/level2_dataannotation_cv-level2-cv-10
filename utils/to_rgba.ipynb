{
 "cells": [
  {
   "cell_type": "code",
   "execution_count": 2,
   "metadata": {},
   "outputs": [],
   "source": [
    "import os \n",
    "from PIL import Image "
   ]
  },
  {
   "cell_type": "code",
   "execution_count": 34,
   "metadata": {},
   "outputs": [],
   "source": [
    "format = ['PNG', 'JPEG', 'JPG', 'GIF']\n",
    "for image in sorted(os.listdir('/opt/ml/input/data/ICDAR19/images')):\n",
    "    image = os.path.join('/opt/ml/input/data/ICDAR19/images', image)\n",
    "    im = Image.open(image)\n",
    "    # If is png image\n",
    "    # if im.format in format:\n",
    "    #     # and is not RGBA\n",
    "    #     if im.mode != 'RGBA':            \n",
    "    #         split_new_image = image.split('.')\n",
    "    #         split_new_image[-1] = 'png'\n",
    "    #         new_image = '.'.join(split_new_image)\n",
    "            \n",
    "    #         im = im.convert('RGBA')    \n",
    "    #         os.remove(image)        \n",
    "    #         im.save(f\"{new_image}\")\n",
    "    #     else :\n",
    "    #         continue     \n",
    "    if im.format == 'PNG':\n",
    "        # and is not RGBA\n",
    "        if im.mode != 'RGBA':\n",
    "            im.convert(\"RGBA\").save(image)"
   ]
  },
  {
   "cell_type": "code",
   "execution_count": null,
   "metadata": {},
   "outputs": [],
   "source": []
  }
 ],
 "metadata": {
  "kernelspec": {
   "display_name": "Python 3",
   "language": "python",
   "name": "python3"
  },
  "language_info": {
   "codemirror_mode": {
    "name": "ipython",
    "version": 3
   },
   "file_extension": ".py",
   "mimetype": "text/x-python",
   "name": "python",
   "nbconvert_exporter": "python",
   "pygments_lexer": "ipython3",
   "version": "3.8.2 (default, Nov  4 2020, 21:23:28) \n[Clang 12.0.0 (clang-1200.0.32.28)]"
  },
  "orig_nbformat": 4,
  "vscode": {
   "interpreter": {
    "hash": "31f2aee4e71d21fbe5cf8b01ff0e069b9275f58929596ceb00d14d90e3e16cd6"
   }
  }
 },
 "nbformat": 4,
 "nbformat_minor": 2
}
