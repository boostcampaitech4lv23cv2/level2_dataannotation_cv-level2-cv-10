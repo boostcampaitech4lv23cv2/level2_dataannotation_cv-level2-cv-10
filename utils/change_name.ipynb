{
 "cells": [
  {
   "cell_type": "code",
   "execution_count": 1,
   "metadata": {},
   "outputs": [],
   "source": [
    "import os, glob, shutil, tqdm"
   ]
  },
  {
   "cell_type": "code",
   "execution_count": null,
   "metadata": {},
   "outputs": [],
   "source": [
    "img_path = '/opt/ml/input/data/book01_04/images/#Ucc45#Ud45c#Uc9c0_#Uc0ac#Ud68c#Uacfc#Ud559_000001.JPG'\n"
   ]
  },
  {
   "cell_type": "code",
   "execution_count": null,
   "metadata": {},
   "outputs": [],
   "source": [
    "import matplotlib.pyplot as plt\n",
    "img = plt.imread(img_path)\n",
    "plt.imshow(img)"
   ]
  },
  {
   "cell_type": "code",
   "execution_count": null,
   "metadata": {},
   "outputs": [],
   "source": [
    "import sys\n",
    "import chardet\n",
    "print(img_path)\n",
    "print(type(img_path))\n",
    "# detect encoding from the img_path\n",
    "result = chardet.detect(img_path.encode())\n",
    "result\n"
   ]
  },
  {
   "cell_type": "code",
   "execution_count": null,
   "metadata": {},
   "outputs": [],
   "source": [
    "img_path.encode(\"cp949\")"
   ]
  },
  {
   "cell_type": "code",
   "execution_count": null,
   "metadata": {},
   "outputs": [],
   "source": [
    "# img_path.encode(encoding=\"euc-kr\")\n",
    "# encode ascii to utf-8\n",
    "fixed_string = img_path.encode(encoding=\"ascii\")\n",
    "fixed_string"
   ]
  },
  {
   "cell_type": "code",
   "execution_count": null,
   "metadata": {},
   "outputs": [],
   "source": [
    "path = '/opt/ml/input/data/book01_04/ufo/train.json'\n",
    "import json\n",
    "\n",
    "# open json file\n",
    "with open(path, encoding='utf-8-sig') as json_file:\n",
    "    json_data = json.load(json_file)\n",
    "json_data"
   ]
  },
  {
   "cell_type": "code",
   "execution_count": 13,
   "metadata": {},
   "outputs": [
    {
     "name": "stdout",
     "output_type": "stream",
     "text": [
      "[]\n",
      "finish!\n"
     ]
    }
   ],
   "source": [
    "# remove all files starting with '책표지_사회과학_'\n",
    "remove_imgs = glob.glob('/opt/ml/input/data/book01_04/images/책표지_책표지_총류_*')\n",
    "remove_imgs.sort()\n",
    "print(remove_imgs)\n",
    "# for img in remove_imgs:\n",
    "#     print(img)\n",
    "#     os.remove(img)\n",
    "print('finish!')"
   ]
  },
  {
   "cell_type": "code",
   "execution_count": 2,
   "metadata": {},
   "outputs": [
    {
     "data": {
      "text/plain": [
       "['책표지_철학_003103.jpg',\n",
       " '책표지_철학_003104.jpg',\n",
       " '책표지_철학_003105.JPG',\n",
       " '책표지_철학_003106.jpg',\n",
       " '책표지_철학_003107.jpg',\n",
       " '책표지_철학_003108.jpg',\n",
       " '책표지_철학_003109.jpg',\n",
       " '책표지_철학_003110.jpg',\n",
       " '책표지_철학_003111.jpg',\n",
       " '책표지_철학_003112.jpg']"
      ]
     },
     "execution_count": 2,
     "metadata": {},
     "output_type": "execute_result"
    }
   ],
   "source": [
    "prefix = \"책표지_\"\n",
    "book_type = [\"총류\", \"종교\", \"철학\", \"사회과학\"]\n",
    "\n",
    "image_dir = \"/opt/ml/input/data/book01_04/images\"\n",
    "images = os.listdir(image_dir)\n",
    "images.sort()\n",
    "images[-10:]"
   ]
  },
  {
   "cell_type": "code",
   "execution_count": 12,
   "metadata": {},
   "outputs": [
    {
     "name": "stdout",
     "output_type": "stream",
     "text": [
      "finish!\n"
     ]
    }
   ],
   "source": [
    "import re\n",
    "dict_correspond = {\n",
    "    \"#Ucc45#Ud45c#Uc9c0_#Uc0ac#Ud68c#Uacfc#Ud559\": \"사회과학\",\n",
    "    \"#Ucc45#Ud45c#Uc9c0_#Ucd1d#Ub958\": \"총류\",\n",
    "    \"#Ucc45#Ud45c#Uc9c0_#Uc885#Uad50\": \"종교\",\n",
    "    \"#Ucc45#Ud45c#Uc9c0_#Ucca0#Ud559\": \"철학\",    \n",
    "}\n",
    "\n",
    "prefix = \"책표지_\"\n",
    "\n",
    "images = glob.glob(os.path.join(image_dir, \"*.JPG\")) + glob.glob(os.path.join(image_dir, \"*.jpg\")) + glob.glob(os.path.join(image_dir, \"*.jpeg\"))\n",
    "images.sort()\n",
    "\n",
    "for idx, file_name in enumerate(images):\n",
    "    previous_name = file_name\n",
    "    # find pattern using re\n",
    "    for pattern in dict_correspond.keys():\n",
    "        try:\n",
    "            file_name = file_name.replace(pattern, dict_correspond[pattern])\n",
    "        except:\n",
    "            pass\n",
    "    # get basename\n",
    "    basename = os.path.basename(file_name)\n",
    "    basename = prefix + basename\n",
    "    # get dirname\n",
    "    dirname = os.path.dirname(file_name)\n",
    "    \n",
    "    file_name = os.path.join(dirname, basename)\n",
    "    # rename file\n",
    "    os.rename(previous_name, file_name)\n",
    "    \n",
    "    \n",
    "print(\"finish!\")"
   ]
  },
  {
   "cell_type": "code",
   "execution_count": null,
   "metadata": {},
   "outputs": [],
   "source": []
  }
 ],
 "metadata": {
  "kernelspec": {
   "display_name": "base",
   "language": "python",
   "name": "python3"
  },
  "language_info": {
   "codemirror_mode": {
    "name": "ipython",
    "version": 3
   },
   "file_extension": ".py",
   "mimetype": "text/x-python",
   "name": "python",
   "nbconvert_exporter": "python",
   "pygments_lexer": "ipython3",
   "version": "3.8.5"
  },
  "orig_nbformat": 4,
  "vscode": {
   "interpreter": {
    "hash": "d4d1e4263499bec80672ea0156c357c1ee493ec2b1c70f0acce89fc37c4a6abe"
   }
  }
 },
 "nbformat": 4,
 "nbformat_minor": 2
}
