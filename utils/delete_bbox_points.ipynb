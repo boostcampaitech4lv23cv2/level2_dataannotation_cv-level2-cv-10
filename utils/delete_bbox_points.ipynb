{
 "cells": [
  {
   "cell_type": "code",
   "execution_count": 2,
   "metadata": {},
   "outputs": [],
   "source": [
    "from asyncio import new_event_loop\n",
    "from pathlib import Path\n",
    "import numpy as np\n",
    "\n",
    "import os.path as osp\n",
    "import json\n",
    "from copy import deepcopy"
   ]
  },
  {
   "cell_type": "code",
   "execution_count": 2,
   "metadata": {},
   "outputs": [],
   "source": [
    "root = '/opt/ml/input/data/Upstage/ufo/'  \n",
    "with Path(osp.join(root, 'annotation.json')).open(encoding='utf8') as handle:\n",
    "        ann = json.load(handle)\n",
    "\n",
    "anno = deepcopy(ann)\n",
    "new_dict = {'images':{}}\n",
    "\n",
    "for img_name in anno['images']:\n",
    "    if not len(anno['images'][img_name]['words']):\n",
    "        continue\n",
    "    for idx in anno['images'][img_name]['words']:\n",
    "        box = anno['images'][img_name]['words'][idx]['points']\n",
    "        if len(box) > 4 and len(box) % 2 == 0:\n",
    "            box_array = np.array(box)\n",
    "            min_x, max_x = box_array[:,0].min(), box_array[:,0].max()\n",
    "            min_y, max_y = box_array[:,1].min(), box_array[:,1].max()\n",
    "            anno['images'][img_name]['words'][idx]['points'] = [[min_x, min_y], [max_x, min_y], [max_x, max_y], [min_x, max_y]]\n",
    "\n",
    "    new_dict['images'][img_name] = anno['images'][img_name]\n",
    "\n",
    "with open(osp.join(root, 'annotation_new.json'), 'w') as f:\n",
    "    json_string = json.dump(new_dict, f, indent=2)"
   ]
  },
  {
   "cell_type": "code",
   "execution_count": 9,
   "metadata": {},
   "outputs": [
    {
     "name": "stdout",
     "output_type": "stream",
     "text": [
      "702\n"
     ]
    }
   ],
   "source": [
    "# 위와 달리 포인트가 4개인 이미지 적용하지 않음\n",
    "root = '/opt/ml/input/data/Upstage/ufo/'  \n",
    "with Path(osp.join(root, 'annotation.json')).open(encoding='utf8') as handle:\n",
    "        ann = json.load(handle)\n",
    "\n",
    "b_anno = deepcopy(ann)\n",
    "r_anno = deepcopy(ann)\n",
    "new_dict = {'images':{}}\n",
    "\n",
    "for img_name in b_anno['images']:\n",
    "    if not len(b_anno['images'][img_name]['words']):\n",
    "        continue\n",
    "    for idx in anno['images'][img_name]['words']:\n",
    "        box = anno['images'][img_name]['words'][idx]['points']\n",
    "        if len(box) > 4 and len(box) % 2 == 0:\n",
    "            del(r_anno['images'][img_name])\n",
    "            break\n",
    "\n",
    "    # new_dict['images'][img_name] = anno['images'][img_name]\n",
    "print(len(r_anno['images']))\n",
    "\n",
    "with open(osp.join(root, 'annotation_del_pol.json'), 'w') as f:\n",
    "    json_string = json.dump(r_anno, f, indent=2)"
   ]
  },
  {
   "cell_type": "code",
   "execution_count": 10,
   "metadata": {},
   "outputs": [
    {
     "name": "stdout",
     "output_type": "stream",
     "text": [
      "702\n"
     ]
    }
   ],
   "source": [
    "root = '/opt/ml/input/data/Upstage/ufo/'  \n",
    "with Path(osp.join(root, 'annotation_del_pol.json')).open(encoding='utf8') as handle:\n",
    "        ann = json.load(handle)\n",
    "\n",
    "print(len(ann['images']))"
   ]
  }
 ],
 "metadata": {
  "kernelspec": {
   "display_name": "Python 3.8.5 ('base')",
   "language": "python",
   "name": "python3"
  },
  "language_info": {
   "codemirror_mode": {
    "name": "ipython",
    "version": 3
   },
   "file_extension": ".py",
   "mimetype": "text/x-python",
   "name": "python",
   "nbconvert_exporter": "python",
   "pygments_lexer": "ipython3",
   "version": "3.8.5"
  },
  "orig_nbformat": 4,
  "vscode": {
   "interpreter": {
    "hash": "d4d1e4263499bec80672ea0156c357c1ee493ec2b1c70f0acce89fc37c4a6abe"
   }
  }
 },
 "nbformat": 4,
 "nbformat_minor": 2
}
