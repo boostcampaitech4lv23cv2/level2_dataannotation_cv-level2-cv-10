{
 "cells": [
  {
   "cell_type": "code",
   "execution_count": null,
   "metadata": {},
   "outputs": [],
   "source": [
    "def draw_bbox(image, bbox, color=(0,0,255), thickness=1, thickness_sub=None, double_lined=False, write_point_numbers=False):\n",
    "    thickness"
   ]
  }
 ],
 "metadata": {
  "language_info": {
   "name": "python"
  },
  "orig_nbformat": 4
 },
 "nbformat": 4,
 "nbformat_minor": 2
}
