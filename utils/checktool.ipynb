{
 "cells": [
  {
   "cell_type": "code",
   "execution_count": 2,
   "metadata": {},
   "outputs": [],
   "source": [
    "import json\n",
    "import os\n",
    "\n",
    "from asyncio import new_event_loop\n",
    "from pathlib import Path\n",
    "import numpy as np\n",
    "\n",
    "import os.path as osp\n",
    "from copy import deepcopy"
   ]
  },
  {
   "cell_type": "markdown",
   "metadata": {},
   "source": [
    "word 유무 확인"
   ]
  },
  {
   "cell_type": "code",
   "execution_count": 9,
   "metadata": {},
   "outputs": [
    {
     "name": "stdout",
     "output_type": "stream",
     "text": [
      "[]\n"
     ]
    }
   ],
   "source": [
    "json_path = \"/opt/ml/input/data/Upstage/ufo/train_anno_del.json\"\n",
    "\n",
    "empty_lists = []\n",
    "with open(json_path, \"rb\") as f :\n",
    "    full_data = json.load(f)\n",
    "    for key, val in full_data[\"images\"].items():\n",
    "        word_info = val[\"words\"]\n",
    "        if len(word_info) == 0 :\n",
    "            empty_lists.append(key)\n",
    "\n",
    "print(empty_lists)"
   ]
  },
  {
   "cell_type": "markdown",
   "metadata": {},
   "source": [
    "Point 개수 확인"
   ]
  },
  {
   "cell_type": "code",
   "execution_count": 8,
   "metadata": {},
   "outputs": [
    {
     "name": "stdout",
     "output_type": "stream",
     "text": [
      "0\n"
     ]
    }
   ],
   "source": [
    "root = '/opt/ml/input/data/Upstage/ufo/'  \n",
    "with Path(osp.join(root, 'annotation_del_pol.json')).open(encoding='utf8') as handle:\n",
    "        ann = json.load(handle)\n",
    "\n",
    "anno = deepcopy(ann)\n",
    "new_dict = {'images':{}}\n",
    "count = 0\n",
    "\n",
    "for img_name in anno['images']:\n",
    "    if not len(anno['images'][img_name]['words']):\n",
    "        continue\n",
    "    for idx in anno['images'][img_name]['words']:\n",
    "        box = anno['images'][img_name]['words'][idx]['points']\n",
    "        if len(box) > 4 and len(box) % 2 == 0:\n",
    "            count += 1\n",
    "\n",
    "print(count)"
   ]
  },
  {
   "cell_type": "code",
   "execution_count": 11,
   "metadata": {},
   "outputs": [
    {
     "name": "stdout",
     "output_type": "stream",
     "text": [
      "2520\n"
     ]
    }
   ],
   "source": [
    "# 위와 달리 포인트가 4개인 이미지 적용하지 않음\n",
    "root = '/opt/ml/input/data/Upstage/ufo/'  \n",
    "with Path(osp.join(root, 'train_1719_ver.json')).open(encoding='utf8') as handle:\n",
    "        ann = json.load(handle)\n",
    "\n",
    "b_anno = deepcopy(ann)\n",
    "r_anno = deepcopy(ann)\n",
    "new_dict = {'images':{}}\n",
    "\n",
    "for img_name in b_anno['images']:\n",
    "    if '.png' in img_name :\n",
    "        del(r_anno['images'][img_name])\n",
    "\n",
    "print(len(r_anno['images']))\n",
    "\n",
    "with open(osp.join(root, 'new.json'), 'w') as f:\n",
    "    json_string = json.dump(r_anno, f, indent=2)"
   ]
  },
  {
   "cell_type": "code",
   "execution_count": 15,
   "metadata": {},
   "outputs": [
    {
     "name": "stdout",
     "output_type": "stream",
     "text": [
      "16\n",
      "2536\n"
     ]
    }
   ],
   "source": [
    "# check png \n",
    "root = '/opt/ml/input/data/Upstage/ufo/'  \n",
    "with Path(osp.join(root, 'train_1719_ver.json')).open(encoding='utf8') as handle:\n",
    "        ann = json.load(handle)\n",
    "\n",
    "anno = deepcopy(ann)\n",
    "new_dict = {'images':{}}\n",
    "count = 0\n",
    "\n",
    "for img_name in anno['images']:\n",
    "    if  '.png' in img_name :\n",
    "        count += 1\n",
    "\n",
    "print(count)\n",
    "print(len(ann[\"images\"]))"
   ]
  },
  {
   "cell_type": "code",
   "execution_count": null,
   "metadata": {},
   "outputs": [],
   "source": []
  }
 ],
 "metadata": {
  "kernelspec": {
   "display_name": "Python 3.8.5 ('base')",
   "language": "python",
   "name": "python3"
  },
  "language_info": {
   "codemirror_mode": {
    "name": "ipython",
    "version": 3
   },
   "file_extension": ".py",
   "mimetype": "text/x-python",
   "name": "python",
   "nbconvert_exporter": "python",
   "pygments_lexer": "ipython3",
   "version": "3.8.5"
  },
  "orig_nbformat": 4,
  "vscode": {
   "interpreter": {
    "hash": "d4d1e4263499bec80672ea0156c357c1ee493ec2b1c70f0acce89fc37c4a6abe"
   }
  }
 },
 "nbformat": 4,
 "nbformat_minor": 2
}
